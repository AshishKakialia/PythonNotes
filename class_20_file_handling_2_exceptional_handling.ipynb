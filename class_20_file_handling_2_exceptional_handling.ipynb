{
 "cells": [
  {
   "cell_type": "code",
   "execution_count": null,
   "id": "84ecc5f0",
   "metadata": {},
   "outputs": [],
   "source": [
    "# 6. Append and read mode - 'a+'\n",
    "\n",
    "- If the file exists then it will open the file in append mode and places the cursor at the end of the file\n",
    "- if the file does not exists then it will create a file with given name and extension\n",
    "- You are allowed to write into the file and also allowed to read from the file\n",
    "- append will always write the the content at the end of the file so seek() will not here"
   ]
  },
  {
   "cell_type": "code",
   "execution_count": 1,
   "id": "9f17f532",
   "metadata": {},
   "outputs": [],
   "source": [
    "# 1.) if file is not der\n",
    "\n",
    "f = open('append_read.txt','a+')\n"
   ]
  },
  {
   "cell_type": "code",
   "execution_count": 2,
   "id": "83bba770",
   "metadata": {},
   "outputs": [
    {
     "name": "stdout",
     "output_type": "stream",
     "text": [
      "11\n",
      "\n",
      "rldhellobye\n",
      "19\n"
     ]
    }
   ],
   "source": [
    "\"\"\"\n",
    "hello world\n",
    "\"\"\"\n",
    "\n",
    "f = open('append_read.txt','a+')\n",
    "print(f.tell())\n",
    "f.seek(5)\n",
    "f.write('hello')\n",
    "print(f.read())\n",
    "f.seek(0)\n",
    "f.write('bye')\n",
    "f.seek(8)\n",
    "print(f.read())\n",
    "print(f.tell())\n",
    "f.close()"
   ]
  },
  {
   "cell_type": "code",
   "execution_count": null,
   "id": "ccbb227e",
   "metadata": {},
   "outputs": [],
   "source": [
    "# python\n",
    "eof\n",
    "empty\n",
    "rldhellobye\n",
    "eof"
   ]
  },
  {
   "cell_type": "code",
   "execution_count": null,
   "id": "bfc92a5c",
   "metadata": {},
   "outputs": [],
   "source": [
    "# content of the file\n",
    "hello worldhellobye"
   ]
  },
  {
   "cell_type": "markdown",
   "id": "3d525b79",
   "metadata": {},
   "source": [
    "# Methods to do the operation on Read mode\n",
    "- read() - reads the whole content of the file and returns a string object\n",
    "- read(char) - reads the specified no of characters from current position and returns string\n",
    "- readline() - reads the current line from the current position of the cursor and retruns a string object\n",
    "- readlines() - reads the whole content of the file and retuns a list of string where every element is a string and represents a line"
   ]
  },
  {
   "cell_type": "code",
   "execution_count": 3,
   "id": "c6fccf39",
   "metadata": {},
   "outputs": [
    {
     "data": {
      "text/plain": [
       "'hello worldhellobye'"
      ]
     },
     "execution_count": 3,
     "metadata": {},
     "output_type": "execute_result"
    }
   ],
   "source": [
    "f = open('append_read.txt','r')\n",
    "f.read()"
   ]
  },
  {
   "cell_type": "code",
   "execution_count": 6,
   "id": "99eec888",
   "metadata": {},
   "outputs": [
    {
     "data": {
      "text/plain": [
       "'hello '"
      ]
     },
     "execution_count": 6,
     "metadata": {},
     "output_type": "execute_result"
    }
   ],
   "source": [
    "f = open('append_read.txt','r')\n",
    "f.read(6)"
   ]
  },
  {
   "cell_type": "code",
   "execution_count": 9,
   "id": "dac94050",
   "metadata": {},
   "outputs": [
    {
     "data": {
      "text/plain": [
       "' learnbay class\\n'"
      ]
     },
     "execution_count": 9,
     "metadata": {},
     "output_type": "execute_result"
    }
   ],
   "source": [
    "f = open('append_read.txt','r')\n",
    "f.seek(15)\n",
    "f.readline()"
   ]
  },
  {
   "cell_type": "code",
   "execution_count": 10,
   "id": "25c49e1a",
   "metadata": {},
   "outputs": [
    {
     "data": {
      "text/plain": [
       "['hello world\\n', 'hey learnbay class\\n', 'hi skillslash']"
      ]
     },
     "execution_count": 10,
     "metadata": {},
     "output_type": "execute_result"
    }
   ],
   "source": [
    "f = open('append_read.txt','r')\n",
    "f.readlines()"
   ]
  },
  {
   "cell_type": "code",
   "execution_count": 11,
   "id": "9b7cb5ce",
   "metadata": {},
   "outputs": [
    {
     "data": {
      "text/plain": [
       "[' learnbay class\\n', 'hi skillslash']"
      ]
     },
     "execution_count": 11,
     "metadata": {},
     "output_type": "execute_result"
    }
   ],
   "source": [
    "f = open('append_read.txt','r')\n",
    "f.seek(15)\n",
    "f.readlines()"
   ]
  },
  {
   "cell_type": "code",
   "execution_count": null,
   "id": "34004c8c",
   "metadata": {},
   "outputs": [],
   "source": [
    "# Methods to do the operation on the write mode\n",
    "\n",
    "1. write('str')\n",
    "2. writelines(['str1\\n' , 'str2\\n' , 'st3\\n'])"
   ]
  },
  {
   "cell_type": "code",
   "execution_count": 13,
   "id": "c8e91992",
   "metadata": {},
   "outputs": [],
   "source": [
    "f = open('append_read.txt','w')\n",
    "f.write('hello')\n",
    "f.close()"
   ]
  },
  {
   "cell_type": "code",
   "execution_count": 15,
   "id": "8ee7682b",
   "metadata": {},
   "outputs": [],
   "source": [
    "f = open('append_read.txt','w')\n",
    "f.writelines(['str1\\n' , 'str2\\n' , 'st3\\n'])\n",
    "f.close()"
   ]
  },
  {
   "cell_type": "markdown",
   "id": "dbceb50f",
   "metadata": {},
   "source": [
    "# with"
   ]
  },
  {
   "cell_type": "code",
   "execution_count": 17,
   "id": "35ede4e6",
   "metadata": {},
   "outputs": [],
   "source": [
    "with open('append_read.txt','w') as f:\n",
    "    f.writelines(['100\\n' , '200\\n' , '300\\n'])"
   ]
  },
  {
   "cell_type": "code",
   "execution_count": null,
   "id": "88410897",
   "metadata": {},
   "outputs": [],
   "source": [
    "content.py ---> paste the content\n",
    "\n",
    "count the number of char in a file\n",
    "count the number of lines\n",
    "count the number of words"
   ]
  },
  {
   "cell_type": "code",
   "execution_count": 18,
   "id": "ef3986e2",
   "metadata": {},
   "outputs": [
    {
     "name": "stdout",
     "output_type": "stream",
     "text": [
      "4\n",
      "575\n",
      "91\n"
     ]
    }
   ],
   "source": [
    "with open('content.py','r') as f:\n",
    "    no_of_lines = len(f.readlines())\n",
    "    f.seek(0)\n",
    "    no_of_char = len(f.read())\n",
    "    f.seek(0)\n",
    "    no_of_words = len(f.read().split())\n",
    "\n",
    "print(no_of_lines)\n",
    "print(no_of_char)\n",
    "print(no_of_words)"
   ]
  },
  {
   "cell_type": "code",
   "execution_count": 20,
   "id": "533c5402",
   "metadata": {},
   "outputs": [],
   "source": [
    "# 2. take a image xyz.png copy the content of the image to a new file abc.jpg\n",
    "\n",
    "with open('python.jpg' , 'rb') as f1:\n",
    "    with open('python.png', 'wb') as f2:\n",
    "        f2.write(f1.read())"
   ]
  },
  {
   "cell_type": "code",
   "execution_count": 22,
   "id": "f598335b",
   "metadata": {},
   "outputs": [
    {
     "data": {
      "text/plain": [
       "'heyharinihowareyou'"
      ]
     },
     "execution_count": 22,
     "metadata": {},
     "output_type": "execute_result"
    }
   ],
   "source": []
  },
  {
   "cell_type": "code",
   "execution_count": null,
   "id": "56304350",
   "metadata": {},
   "outputs": [],
   "source": [
    "# Exceptional handling\n",
    "\n",
    "- types of error\n",
    "\n",
    "1. Compile time error - syntax , indentation\n",
    "2. logical error - error made by humans\n",
    "3. run time error- divide by zero , namer error, type error\n",
    "\n",
    "Note: Exceptonal handling will only work for runtime error"
   ]
  },
  {
   "cell_type": "code",
   "execution_count": null,
   "id": "e064f908",
   "metadata": {},
   "outputs": [],
   "source": [
    "python ---> compile(Compile time error) ----> interpretr(runtime error)"
   ]
  },
  {
   "cell_type": "code",
   "execution_count": 23,
   "id": "eebad40c",
   "metadata": {},
   "outputs": [
    {
     "name": "stdout",
     "output_type": "stream",
     "text": [
      "['ArithmeticError', 'AssertionError', 'AttributeError', 'BaseException', 'BlockingIOError', 'BrokenPipeError', 'BufferError', 'BytesWarning', 'ChildProcessError', 'ConnectionAbortedError', 'ConnectionError', 'ConnectionRefusedError', 'ConnectionResetError', 'DeprecationWarning', 'EOFError', 'Ellipsis', 'EnvironmentError', 'Exception', 'False', 'FileExistsError', 'FileNotFoundError', 'FloatingPointError', 'FutureWarning', 'GeneratorExit', 'IOError', 'ImportError', 'ImportWarning', 'IndentationError', 'IndexError', 'InterruptedError', 'IsADirectoryError', 'KeyError', 'KeyboardInterrupt', 'LookupError', 'MemoryError', 'ModuleNotFoundError', 'NameError', 'None', 'NotADirectoryError', 'NotImplemented', 'NotImplementedError', 'OSError', 'OverflowError', 'PendingDeprecationWarning', 'PermissionError', 'ProcessLookupError', 'RecursionError', 'ReferenceError', 'ResourceWarning', 'RuntimeError', 'RuntimeWarning', 'StopAsyncIteration', 'StopIteration', 'SyntaxError', 'SyntaxWarning', 'SystemError', 'SystemExit', 'TabError', 'TimeoutError', 'True', 'TypeError', 'UnboundLocalError', 'UnicodeDecodeError', 'UnicodeEncodeError', 'UnicodeError', 'UnicodeTranslateError', 'UnicodeWarning', 'UserWarning', 'ValueError', 'Warning', 'WindowsError', 'ZeroDivisionError', '__IPYTHON__', '__build_class__', '__debug__', '__doc__', '__import__', '__loader__', '__name__', '__package__', '__spec__', 'abs', 'all', 'any', 'ascii', 'bin', 'bool', 'breakpoint', 'bytearray', 'bytes', 'callable', 'chr', 'classmethod', 'compile', 'complex', 'copyright', 'credits', 'delattr', 'dict', 'dir', 'display', 'divmod', 'enumerate', 'eval', 'exec', 'execfile', 'filter', 'float', 'format', 'frozenset', 'get_ipython', 'getattr', 'globals', 'hasattr', 'hash', 'help', 'hex', 'id', 'input', 'int', 'isinstance', 'issubclass', 'iter', 'len', 'license', 'list', 'locals', 'map', 'max', 'memoryview', 'min', 'next', 'object', 'oct', 'open', 'ord', 'pow', 'print', 'property', 'range', 'repr', 'reversed', 'round', 'runfile', 'set', 'setattr', 'slice', 'sorted', 'staticmethod', 'str', 'sum', 'super', 'tuple', 'type', 'vars', 'zip']\n"
     ]
    }
   ],
   "source": [
    "# list of errors\n",
    "\n",
    "print(dir(__builtins__))"
   ]
  },
  {
   "cell_type": "code",
   "execution_count": null,
   "id": "b85f819f",
   "metadata": {},
   "outputs": [],
   "source": [
    "# keywords that we will be using for exceptional handlings is\n",
    "\n",
    "1. try\n",
    "2. except\n",
    "3. else\n",
    "4. finally\n",
    "5. raise"
   ]
  },
  {
   "cell_type": "code",
   "execution_count": 26,
   "id": "1f16dd09",
   "metadata": {},
   "outputs": [
    {
     "name": "stdout",
     "output_type": "stream",
     "text": [
      "enter the 1st numbersf\n"
     ]
    },
    {
     "ename": "ValueError",
     "evalue": "invalid literal for int() with base 10: 'f'",
     "output_type": "error",
     "traceback": [
      "\u001b[1;31m---------------------------------------------------------------------------\u001b[0m",
      "\u001b[1;31mValueError\u001b[0m                                Traceback (most recent call last)",
      "\u001b[1;32m~\\AppData\\Local\\Temp/ipykernel_17988/3672983987.py\u001b[0m in \u001b[0;36m<module>\u001b[1;34m\u001b[0m\n\u001b[1;32m----> 1\u001b[1;33m \u001b[0mnum1\u001b[0m \u001b[1;33m=\u001b[0m \u001b[0mint\u001b[0m\u001b[1;33m(\u001b[0m\u001b[0minput\u001b[0m\u001b[1;33m(\u001b[0m\u001b[1;34m'enter the 1st numbers'\u001b[0m\u001b[1;33m)\u001b[0m\u001b[1;33m)\u001b[0m\u001b[1;33m\u001b[0m\u001b[1;33m\u001b[0m\u001b[0m\n\u001b[0m\u001b[0;32m      2\u001b[0m \u001b[0mnum2\u001b[0m \u001b[1;33m=\u001b[0m \u001b[0mint\u001b[0m\u001b[1;33m(\u001b[0m\u001b[0minput\u001b[0m\u001b[1;33m(\u001b[0m\u001b[1;34m'enter the 2nd numbers'\u001b[0m\u001b[1;33m)\u001b[0m\u001b[1;33m)\u001b[0m\u001b[1;33m\u001b[0m\u001b[1;33m\u001b[0m\u001b[0m\n\u001b[0;32m      3\u001b[0m \u001b[1;33m\u001b[0m\u001b[0m\n\u001b[0;32m      4\u001b[0m \u001b[0mprint\u001b[0m\u001b[1;33m(\u001b[0m\u001b[0mnum1\u001b[0m \u001b[1;33m+\u001b[0m \u001b[0mnum2\u001b[0m\u001b[1;33m)\u001b[0m\u001b[1;33m\u001b[0m\u001b[1;33m\u001b[0m\u001b[0m\n",
      "\u001b[1;31mValueError\u001b[0m: invalid literal for int() with base 10: 'f'"
     ]
    }
   ],
   "source": [
    "num1 = int(input('enter the 1st numbers'))\n",
    "num2 = int(input('enter the 2nd numbers'))\n",
    "\n",
    "print(num1 + num2)"
   ]
  },
  {
   "cell_type": "code",
   "execution_count": 32,
   "id": "e826c50e",
   "metadata": {},
   "outputs": [
    {
     "name": "stdout",
     "output_type": "stream",
     "text": [
      "enter the 1st numbers10\n",
      "enter the 2nd numbers0\n"
     ]
    },
    {
     "ename": "ZeroDivisionError",
     "evalue": "division by zero",
     "output_type": "error",
     "traceback": [
      "\u001b[1;31m---------------------------------------------------------------------------\u001b[0m",
      "\u001b[1;31mZeroDivisionError\u001b[0m                         Traceback (most recent call last)",
      "\u001b[1;32m~\\AppData\\Local\\Temp/ipykernel_17988/2139806502.py\u001b[0m in \u001b[0;36m<module>\u001b[1;34m\u001b[0m\n\u001b[0;32m      2\u001b[0m \u001b[0mnum2\u001b[0m \u001b[1;33m=\u001b[0m \u001b[0mint\u001b[0m\u001b[1;33m(\u001b[0m\u001b[0minput\u001b[0m\u001b[1;33m(\u001b[0m\u001b[1;34m'enter the 2nd numbers'\u001b[0m\u001b[1;33m)\u001b[0m\u001b[1;33m)\u001b[0m\u001b[1;33m\u001b[0m\u001b[1;33m\u001b[0m\u001b[0m\n\u001b[0;32m      3\u001b[0m \u001b[1;33m\u001b[0m\u001b[0m\n\u001b[1;32m----> 4\u001b[1;33m \u001b[0mprint\u001b[0m\u001b[1;33m(\u001b[0m\u001b[0mnum1\u001b[0m \u001b[1;33m/\u001b[0m \u001b[0mnum2\u001b[0m\u001b[1;33m)\u001b[0m\u001b[1;33m\u001b[0m\u001b[1;33m\u001b[0m\u001b[0m\n\u001b[0m\u001b[0;32m      5\u001b[0m \u001b[1;33m\u001b[0m\u001b[0m\n\u001b[0;32m      6\u001b[0m \u001b[0mprint\u001b[0m\u001b[1;33m(\u001b[0m\u001b[1;34m'hello'\u001b[0m\u001b[1;33m)\u001b[0m\u001b[1;33m\u001b[0m\u001b[1;33m\u001b[0m\u001b[0m\n",
      "\u001b[1;31mZeroDivisionError\u001b[0m: division by zero"
     ]
    }
   ],
   "source": [
    "num1 = int(input('enter the 1st numbers'))\n",
    "num2 = int(input('enter the 2nd numbers'))\n",
    "\n",
    "print(num1 / num2)\n",
    "\n",
    "print('hello')"
   ]
  },
  {
   "cell_type": "code",
   "execution_count": null,
   "id": "1262e36d",
   "metadata": {},
   "outputs": [],
   "source": [
    "# Try and Except\n",
    "\n",
    "try : only the code which will going to raise an error should be written in the try block\n",
    "Except: alternative code if error is raise dby the try block"
   ]
  },
  {
   "cell_type": "code",
   "execution_count": null,
   "id": "073459ed",
   "metadata": {},
   "outputs": [],
   "source": [
    "try:\n",
    "    # logic\n",
    "except:\n",
    "    # alternate code"
   ]
  },
  {
   "cell_type": "code",
   "execution_count": 37,
   "id": "4452069f",
   "metadata": {},
   "outputs": [
    {
     "name": "stdout",
     "output_type": "stream",
     "text": [
      "enter the 1st numbers10\n",
      "enter the 2nd numbers20\n",
      "0.5\n",
      "hello\n"
     ]
    }
   ],
   "source": [
    "num1 = eval(input('enter the 1st numbers'))\n",
    "num2 = eval(input('enter the 2nd numbers'))\n",
    "\n",
    "try:\n",
    "    c = num1 / num2\n",
    "    print(c)\n",
    "except:\n",
    "    print('some error')\n",
    "    \n",
    "print('hello')"
   ]
  },
  {
   "cell_type": "code",
   "execution_count": null,
   "id": "76f37d17",
   "metadata": {},
   "outputs": [],
   "source": [
    "Except: alternative code if error is raise by the try block\n",
    "else: if der is no error by the try block"
   ]
  },
  {
   "cell_type": "code",
   "execution_count": null,
   "id": "bf2e727e",
   "metadata": {},
   "outputs": [],
   "source": [
    "try:\n",
    "    # some code\n",
    "except:\n",
    "    # exec if the try throws an error\n",
    "else:\n",
    "    # exec if no error in the try block"
   ]
  },
  {
   "cell_type": "code",
   "execution_count": 2,
   "id": "d1457870",
   "metadata": {},
   "outputs": [
    {
     "name": "stdout",
     "output_type": "stream",
     "text": [
      "enter the 1st numbers10\n",
      "enter the 2nd numbers0\n",
      "some error\n"
     ]
    },
    {
     "ename": "NameError",
     "evalue": "name 'c' is not defined",
     "output_type": "error",
     "traceback": [
      "\u001b[1;31m---------------------------------------------------------------------------\u001b[0m",
      "\u001b[1;31mNameError\u001b[0m                                 Traceback (most recent call last)",
      "\u001b[1;32m~\\AppData\\Local\\Temp/ipykernel_12140/3872342022.py\u001b[0m in \u001b[0;36m<module>\u001b[1;34m\u001b[0m\n\u001b[0;32m      8\u001b[0m     \u001b[0mprint\u001b[0m\u001b[1;33m(\u001b[0m\u001b[1;34m'some error'\u001b[0m\u001b[1;33m)\u001b[0m\u001b[1;33m\u001b[0m\u001b[1;33m\u001b[0m\u001b[0m\n\u001b[0;32m      9\u001b[0m \u001b[1;33m\u001b[0m\u001b[0m\n\u001b[1;32m---> 10\u001b[1;33m \u001b[0mprint\u001b[0m\u001b[1;33m(\u001b[0m\u001b[0mc\u001b[0m\u001b[1;33m)\u001b[0m\u001b[1;33m\u001b[0m\u001b[1;33m\u001b[0m\u001b[0m\n\u001b[0m",
      "\u001b[1;31mNameError\u001b[0m: name 'c' is not defined"
     ]
    }
   ],
   "source": [
    "num1 = eval(input('enter the 1st numbers'))\n",
    "num2 = eval(input('enter the 2nd numbers'))\n",
    "\n",
    "try:\n",
    "    c = num1 / num2\n",
    "    print(c)\n",
    "except:\n",
    "    print('some error')\n",
    "    \n",
    "print(c)"
   ]
  },
  {
   "cell_type": "code",
   "execution_count": 4,
   "id": "168e8830",
   "metadata": {},
   "outputs": [
    {
     "name": "stdout",
     "output_type": "stream",
     "text": [
      "enter the 1st numbers10\n",
      "enter the 2nd numbers0\n",
      "some error\n"
     ]
    }
   ],
   "source": [
    "num1 = eval(input('enter the 1st numbers'))\n",
    "num2 = eval(input('enter the 2nd numbers'))\n",
    "\n",
    "try:\n",
    "    c = num1 / num2\n",
    "except:\n",
    "    print('some error')\n",
    "else:\n",
    "    print(c)"
   ]
  },
  {
   "cell_type": "code",
   "execution_count": null,
   "id": "2c654157",
   "metadata": {},
   "outputs": [],
   "source": [
    "# finally - it will execute no matter what happends to try block"
   ]
  },
  {
   "cell_type": "code",
   "execution_count": 7,
   "id": "e1fd96a1",
   "metadata": {},
   "outputs": [
    {
     "name": "stdout",
     "output_type": "stream",
     "text": [
      "enter the 1st numbers10\n",
      "enter the 2nd numbers0\n",
      "some error\n",
      "executed\n"
     ]
    }
   ],
   "source": [
    "num1 = eval(input('enter the 1st numbers'))\n",
    "num2 = eval(input('enter the 2nd numbers'))\n",
    "\n",
    "try:\n",
    "    c = num1 / num2\n",
    "except:\n",
    "    prmpt (;please)\n",
    "else:\n",
    "    c"
   ]
  },
  {
   "cell_type": "code",
   "execution_count": null,
   "id": "8f60f9c6",
   "metadata": {},
   "outputs": [],
   "source": [
    "num1 = eval(input('enter the 1st numbers'))\n",
    "num2 = eval(input('enter the 2nd numbers'))\n",
    "\n"
   ]
  }
 ],
 "metadata": {
  "kernelspec": {
   "display_name": "Python 3 (ipykernel)",
   "language": "python",
   "name": "python3"
  },
  "language_info": {
   "codemirror_mode": {
    "name": "ipython",
    "version": 3
   },
   "file_extension": ".py",
   "mimetype": "text/x-python",
   "name": "python",
   "nbconvert_exporter": "python",
   "pygments_lexer": "ipython3",
   "version": "3.9.7"
  }
 },
 "nbformat": 4,
 "nbformat_minor": 5
}
