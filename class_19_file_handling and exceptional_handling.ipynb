{
 "cells": [
  {
   "cell_type": "code",
   "execution_count": 1,
   "id": "0958ac25",
   "metadata": {},
   "outputs": [],
   "source": [
    "import dummy_module"
   ]
  },
  {
   "cell_type": "code",
   "execution_count": null,
   "id": "626fb75a",
   "metadata": {},
   "outputs": [],
   "source": [
    "# executuiong the dummy module"
   ]
  },
  {
   "cell_type": "code",
   "execution_count": 2,
   "id": "7c6091bb",
   "metadata": {},
   "outputs": [
    {
     "name": "stdout",
     "output_type": "stream",
     "text": [
      "__main__\n"
     ]
    }
   ],
   "source": [
    "print(__name__)"
   ]
  },
  {
   "cell_type": "code",
   "execution_count": null,
   "id": "52c3c64a",
   "metadata": {},
   "outputs": [],
   "source": [
    "if the file is executed directly then __name__ is __main__\n",
    "if the file is executed as a module __name__ is filename"
   ]
  },
  {
   "cell_type": "code",
   "execution_count": 4,
   "id": "999b8f85",
   "metadata": {},
   "outputs": [
    {
     "name": "stdout",
     "output_type": "stream",
     "text": [
      "['In', 'Out', '_', '__', '___', '__builtin__', '__builtins__', '__doc__', '__loader__', '__name__', '__package__', '__spec__', '_dh', '_i', '_i1', '_i2', '_i3', '_i4', '_ih', '_ii', '_iii', '_oh', 'dummy_module', 'exit', 'get_ipython', 'quit']\n"
     ]
    }
   ],
   "source": []
  },
  {
   "cell_type": "code",
   "execution_count": 2,
   "id": "4d18c528",
   "metadata": {},
   "outputs": [
    {
     "name": "stdout",
     "output_type": "stream",
     "text": [
      "__main__\n"
     ]
    }
   ],
   "source": [
    "print(__name__)"
   ]
  },
  {
   "cell_type": "code",
   "execution_count": null,
   "id": "8cdd185e",
   "metadata": {},
   "outputs": [],
   "source": [
    "__name__ = filename"
   ]
  },
  {
   "cell_type": "markdown",
   "id": "2c84ee1f",
   "metadata": {},
   "source": [
    "# File Handling"
   ]
  },
  {
   "cell_type": "code",
   "execution_count": null,
   "id": "989e6159",
   "metadata": {},
   "outputs": [],
   "source": [
    "# text file --> normal file\n",
    "# binary file --> videos, images"
   ]
  },
  {
   "cell_type": "markdown",
   "id": "5a49170a",
   "metadata": {},
   "source": [
    "# point to keep in mind while working with file handling\n",
    "\n",
    "1. to read a file using the file handling first we have to open the file\n",
    "- f = open(filename.ext , 'mode')\n",
    "  f.close() #save and exit\n",
    "  \n",
    "2. data read from the file is always in the string format\n",
    "\n",
    "3. modes of operation - text file\n",
    "\n",
    "- read mode - 'r'\n",
    "- write mode -'w'\n",
    "- append mode - 'a'\n",
    "- read and write mode - 'r+'\n",
    "- write and read mode - 'w+'\n",
    "- append and read mode - 'a+'\n",
    "\n",
    "4. modes of operation - binary file\n",
    "\n",
    "- read mode - 'rb'\n",
    "- write mode -'wb'\n",
    "- append mode - 'ab'\n",
    "- read and write mode - 'r+b'\n",
    "- write and read mode - 'w+b'\n",
    "- append and read mode - 'a+b'\n",
    "\n",
    "5. methods on file object\n",
    "\n",
    "- read - reading the content of the file\n",
    "- write - write the content to the file\n",
    "- tell - tell the cursor location\n",
    "- seek - moves the cursor to specific location"
   ]
  },
  {
   "cell_type": "markdown",
   "id": "f26ec564",
   "metadata": {},
   "source": [
    "# Modes of Operation\n"
   ]
  },
  {
   "cell_type": "markdown",
   "id": "4eca8c41",
   "metadata": {},
   "source": [
    "## 1. Read mode - 'r'\n",
    "- If the file exists then it will open the file in read mode and places the cursor at the begining of the file\n",
    "- if the file does not exists then it will give FileNotFoundError\n",
    "- You are allowed only to read from the file but not allowed to write into the file"
   ]
  },
  {
   "cell_type": "code",
   "execution_count": 6,
   "id": "92f267ee",
   "metadata": {},
   "outputs": [
    {
     "ename": "FileNotFoundError",
     "evalue": "[Errno 2] No such file or directory: 'read_mode.txt'",
     "output_type": "error",
     "traceback": [
      "\u001b[1;31m---------------------------------------------------------------------------\u001b[0m",
      "\u001b[1;31mFileNotFoundError\u001b[0m                         Traceback (most recent call last)",
      "\u001b[1;32m~\\AppData\\Local\\Temp/ipykernel_14212/1501763248.py\u001b[0m in \u001b[0;36m<module>\u001b[1;34m\u001b[0m\n\u001b[0;32m      1\u001b[0m \u001b[1;31m# if file is der\u001b[0m\u001b[1;33m\u001b[0m\u001b[1;33m\u001b[0m\u001b[0m\n\u001b[0;32m      2\u001b[0m \u001b[1;33m\u001b[0m\u001b[0m\n\u001b[1;32m----> 3\u001b[1;33m \u001b[0mf\u001b[0m \u001b[1;33m=\u001b[0m \u001b[0mopen\u001b[0m\u001b[1;33m(\u001b[0m\u001b[1;34m'read_mode.txt'\u001b[0m \u001b[1;33m,\u001b[0m \u001b[1;34m'r'\u001b[0m\u001b[1;33m)\u001b[0m\u001b[1;33m\u001b[0m\u001b[1;33m\u001b[0m\u001b[0m\n\u001b[0m",
      "\u001b[1;31mFileNotFoundError\u001b[0m: [Errno 2] No such file or directory: 'read_mode.txt'"
     ]
    }
   ],
   "source": [
    "# if file is not der\n",
    "\n",
    "f = open('read_mode.txt' , 'r')"
   ]
  },
  {
   "cell_type": "code",
   "execution_count": 5,
   "id": "c3e97a83",
   "metadata": {
    "collapsed": true
   },
   "outputs": [
    {
     "name": "stdout",
     "output_type": "stream",
     "text": [
      " Volume in drive D is New Volume\n",
      " Volume Serial Number is E245-2747\n",
      "\n",
      " Directory of D:\\learnbay\\courses\\ongoing_class\\april_batches\\24_march_weekday_python\\python_notes\n",
      "\n",
      "05/04/2022  08:50 AM    <DIR>          .\n",
      "05/04/2022  08:50 AM    <DIR>          ..\n",
      "05/04/2022  08:18 AM    <DIR>          .ipynb_checkpoints\n",
      "05/04/2022  08:37 AM    <DIR>          __pycache__\n",
      "03/31/2022  09:49 AM             2,432 class_1_jupyter_intro_1_python_intro.ipynb\n",
      "04/14/2022  09:53 AM            24,959 class_10_list.ipynb\n",
      "04/18/2022  09:54 AM            27,199 class_11_list_part_2.ipynb\n",
      "04/19/2022  09:56 AM            23,945 class_12_list_comprehension_tuple_dict_part_1.ipynb\n",
      "04/21/2022  09:59 AM            36,600 class_13_dict_part_2.ipynb\n",
      "04/25/2022  09:57 AM            14,110 class_14_conditional_statements_loops.ipynb\n",
      "04/28/2022  09:42 AM            11,206 class_15_break_continue_functions.ipynb\n",
      "04/28/2022  09:57 AM            17,521 class_16_functions_part_2.ipynb\n",
      "04/29/2022  10:00 AM            12,186 class_17_lambda_map_reduce_filter_enumerate_iterators.ipynb\n",
      "05/02/2022  09:53 AM            32,343 class_18_filter_enumerate_iterator_module.ipynb\n",
      "05/04/2022  08:50 AM             4,440 class_19_file_handling and exceptional_handling.ipynb\n",
      "04/04/2022  09:48 AM            14,648 class_2_python_components.ipynb\n",
      "04/05/2022  09:58 AM            17,499 class_3_Integer_data_types.ipynb\n",
      "04/06/2022  11:07 AM            20,092 class_4_integer_datatype_part_2_typecasting.ipynb\n",
      "04/07/2022  10:03 AM            12,169 class_5_integer_part_3_type_casting.ipynb\n",
      "04/08/2022  09:58 AM            21,081 class_6_ip_op_format_string_float datatype.ipynb\n",
      "04/11/2022  09:30 AM            12,384 class_7_None_Boolean_string_part_1.ipynb\n",
      "04/12/2022  09:39 AM            17,247 class_8_string_part_2.ipynb\n",
      "04/13/2022  09:53 AM            16,452 class_9_string_part_3.ipynb\n",
      "05/04/2022  08:37 AM               512 dummy_module.py\n",
      "04/08/2022  09:54 AM               806 Untitled.ipynb\n",
      "05/04/2022  08:18 AM                72 Untitled1.ipynb\n",
      "              22 File(s)        339,903 bytes\n",
      "               4 Dir(s)  145,843,404,800 bytes free\n"
     ]
    }
   ],
   "source": [
    "ls"
   ]
  },
  {
   "cell_type": "code",
   "execution_count": 11,
   "id": "97acc650",
   "metadata": {},
   "outputs": [
    {
     "data": {
      "text/plain": [
       "29"
      ]
     },
     "execution_count": 11,
     "metadata": {},
     "output_type": "execute_result"
    }
   ],
   "source": [
    "# if the file is der\n",
    "f = open('read_mode.txt' , 'r')\n",
    "f.tell()\n",
    "f.read()\n",
    "f.tell()"
   ]
  },
  {
   "cell_type": "code",
   "execution_count": 13,
   "id": "dfc9f5d2",
   "metadata": {},
   "outputs": [
    {
     "name": "stdout",
     "output_type": "stream",
     "text": [
      "hton course\n",
      "2\n"
     ]
    },
    {
     "ename": "UnsupportedOperation",
     "evalue": "not writable",
     "output_type": "error",
     "traceback": [
      "\u001b[1;31m---------------------------------------------------------------------------\u001b[0m",
      "\u001b[1;31mUnsupportedOperation\u001b[0m                      Traceback (most recent call last)",
      "\u001b[1;32m~\\AppData\\Local\\Temp/ipykernel_14212/2694212476.py\u001b[0m in \u001b[0;36m<module>\u001b[1;34m\u001b[0m\n\u001b[0;32m      8\u001b[0m \u001b[0mf\u001b[0m\u001b[1;33m.\u001b[0m\u001b[0mseek\u001b[0m\u001b[1;33m(\u001b[0m\u001b[1;36m2\u001b[0m\u001b[1;33m)\u001b[0m\u001b[1;33m\u001b[0m\u001b[1;33m\u001b[0m\u001b[0m\n\u001b[0;32m      9\u001b[0m \u001b[0mprint\u001b[0m\u001b[1;33m(\u001b[0m\u001b[0mf\u001b[0m\u001b[1;33m.\u001b[0m\u001b[0mtell\u001b[0m\u001b[1;33m(\u001b[0m\u001b[1;33m)\u001b[0m\u001b[1;33m)\u001b[0m\u001b[1;33m\u001b[0m\u001b[1;33m\u001b[0m\u001b[0m\n\u001b[1;32m---> 10\u001b[1;33m \u001b[0mf\u001b[0m\u001b[1;33m.\u001b[0m\u001b[0mwrite\u001b[0m\u001b[1;33m(\u001b[0m\u001b[1;34m'hello'\u001b[0m\u001b[1;33m)\u001b[0m\u001b[1;33m\u001b[0m\u001b[1;33m\u001b[0m\u001b[0m\n\u001b[0m",
      "\u001b[1;31mUnsupportedOperation\u001b[0m: not writable"
     ]
    }
   ],
   "source": [
    "\"\"\"\n",
    "pyhton course\n",
    "\"\"\"\n",
    "\n",
    "f = open('read_mode.txt' , 'r')\n",
    "f.seek(2)\n",
    "print(f.read())\n",
    "f.seek(2)\n",
    "print(f.tell())\n",
    "f.write('hello')"
   ]
  },
  {
   "cell_type": "markdown",
   "id": "243ae153",
   "metadata": {},
   "source": [
    "## 2. Write mode - 'w'\n",
    "- If the file exists then it will open the file in write mode and deletes the content of the file\n",
    "- if the file does not exists then it will create a file with given name and extension\n",
    "- You are allowed only to write into the file but not allowed to read from the file"
   ]
  },
  {
   "cell_type": "code",
   "execution_count": 14,
   "id": "dcea98fd",
   "metadata": {},
   "outputs": [],
   "source": [
    "# if file is not der\n",
    "\n",
    "f = open('write_mode.txt' , 'w')"
   ]
  },
  {
   "cell_type": "code",
   "execution_count": 16,
   "id": "aecd0382",
   "metadata": {},
   "outputs": [
    {
     "name": "stdout",
     "output_type": "stream",
     "text": [
      "0\n",
      "10\n"
     ]
    }
   ],
   "source": [
    "# if file is der\n",
    "\n",
    "f = open('write_mode.txt' , 'w')\n",
    "print(f.tell())\n",
    "f.write('afsan khan')\n",
    "print(f.tell())\n",
    "f.close()"
   ]
  },
  {
   "cell_type": "code",
   "execution_count": 17,
   "id": "8dba897e",
   "metadata": {},
   "outputs": [
    {
     "name": "stdout",
     "output_type": "stream",
     "text": [
      "11\n"
     ]
    }
   ],
   "source": [
    "f = open('write_mode.txt' , 'w')\n",
    "f.write('afsan khan')\n",
    "f.seek(6)\n",
    "f.write('devil')\n",
    "print(f.tell())\n",
    "f.read()\n",
    "f.close()"
   ]
  },
  {
   "cell_type": "markdown",
   "id": "095d496b",
   "metadata": {},
   "source": [
    "## 3. Append mode - 'a'\n",
    "- If the file exists then it will open the file in write mode and places the cursor at the end of the file\n",
    "- if the file does not exists then it will create a file with given name and extension\n",
    "- You are allowed only to write into the file but not allowed to read from the file\n",
    "- append will always write the the content at the end of the file so seek() will not work here"
   ]
  },
  {
   "cell_type": "code",
   "execution_count": 18,
   "id": "e85efeef",
   "metadata": {},
   "outputs": [],
   "source": [
    "# file is not der\n",
    "\n",
    "f = open('apppend.txt' , 'a')"
   ]
  },
  {
   "cell_type": "code",
   "execution_count": 21,
   "id": "3a1afefe",
   "metadata": {},
   "outputs": [
    {
     "ename": "UnsupportedOperation",
     "evalue": "not readable",
     "output_type": "error",
     "traceback": [
      "\u001b[1;31m---------------------------------------------------------------------------\u001b[0m",
      "\u001b[1;31mUnsupportedOperation\u001b[0m                      Traceback (most recent call last)",
      "\u001b[1;32m~\\AppData\\Local\\Temp/ipykernel_14212/880793529.py\u001b[0m in \u001b[0;36m<module>\u001b[1;34m\u001b[0m\n\u001b[0;32m      5\u001b[0m \u001b[0mf\u001b[0m\u001b[1;33m.\u001b[0m\u001b[0mseek\u001b[0m\u001b[1;33m(\u001b[0m\u001b[1;36m3\u001b[0m\u001b[1;33m)\u001b[0m\u001b[1;33m\u001b[0m\u001b[1;33m\u001b[0m\u001b[0m\n\u001b[0;32m      6\u001b[0m \u001b[0mf\u001b[0m\u001b[1;33m.\u001b[0m\u001b[0mwrite\u001b[0m\u001b[1;33m(\u001b[0m\u001b[1;34m'\\n hello world'\u001b[0m\u001b[1;33m)\u001b[0m\u001b[1;33m\u001b[0m\u001b[1;33m\u001b[0m\u001b[0m\n\u001b[1;32m----> 7\u001b[1;33m \u001b[0mf\u001b[0m\u001b[1;33m.\u001b[0m\u001b[0mread\u001b[0m\u001b[1;33m(\u001b[0m\u001b[1;33m)\u001b[0m\u001b[1;33m\u001b[0m\u001b[1;33m\u001b[0m\u001b[0m\n\u001b[0m\u001b[0;32m      8\u001b[0m \u001b[0mf\u001b[0m\u001b[1;33m.\u001b[0m\u001b[0mclose\u001b[0m\u001b[1;33m(\u001b[0m\u001b[1;33m)\u001b[0m\u001b[1;33m\u001b[0m\u001b[1;33m\u001b[0m\u001b[0m\n",
      "\u001b[1;31mUnsupportedOperation\u001b[0m: not readable"
     ]
    }
   ],
   "source": [
    "# file is der\n",
    "\n",
    "f = open('apppend.txt' , 'a')\n",
    "f.tell()\n",
    "f.seek(3)\n",
    "f.write('\\n hello world')\n",
    "f.read()\n",
    "f.close()"
   ]
  },
  {
   "cell_type": "markdown",
   "id": "fdec22aa",
   "metadata": {},
   "source": [
    "## 4. Write and read mode - 'w+'\n",
    "- If the file exists then it will open the file in write mode and deletes the content of the file\n",
    "- if the file does not exists then it will create a file with given name and extension\n",
    "- You are allowed to write into the file and also allowed to read from the file"
   ]
  },
  {
   "cell_type": "code",
   "execution_count": 22,
   "id": "82653e29",
   "metadata": {},
   "outputs": [],
   "source": [
    "# file is not der\n",
    "\n",
    "f = open('write_read.txt' , 'w+')"
   ]
  },
  {
   "cell_type": "code",
   "execution_count": 23,
   "id": "e51f6316",
   "metadata": {},
   "outputs": [
    {
     "name": "stdout",
     "output_type": "stream",
     "text": [
      "afsan khan\n",
      "14\n",
      "\n"
     ]
    }
   ],
   "source": [
    "# file is der\n",
    "\n",
    "f = open('write_read.txt' , 'w+')\n",
    "f.write('afsan khan')\n",
    "f.seek(0)\n",
    "print(f.read())\n",
    "f.write('khan')\n",
    "print(f.tell())\n",
    "f.write('ok')\n",
    "print(f.read())\n",
    "f.close()\n"
   ]
  },
  {
   "cell_type": "code",
   "execution_count": null,
   "id": "f2d790e5",
   "metadata": {},
   "outputs": [],
   "source": [
    "afsan khan\n",
    "eof"
   ]
  },
  {
   "cell_type": "code",
   "execution_count": null,
   "id": "7c7e642d",
   "metadata": {},
   "outputs": [],
   "source": [
    "# final content of the file\n",
    "\n",
    "afsan khankhanok"
   ]
  },
  {
   "cell_type": "markdown",
   "id": "892137cf",
   "metadata": {},
   "source": [
    "## 5. read and write - 'r+'\n",
    "- If the file exists then it will open the file in read mode and places the cursor at the begining of the file\n",
    "- if the file does not exists then it will give FileNotFoundError\n",
    "- You are allowed to write into the file and also allowed to read from the file"
   ]
  },
  {
   "cell_type": "code",
   "execution_count": 27,
   "id": "1bf80268",
   "metadata": {},
   "outputs": [
    {
     "ename": "FileNotFoundError",
     "evalue": "[Errno 2] No such file or directory: 'read_writes.txt'",
     "output_type": "error",
     "traceback": [
      "\u001b[1;31m---------------------------------------------------------------------------\u001b[0m",
      "\u001b[1;31mFileNotFoundError\u001b[0m                         Traceback (most recent call last)",
      "\u001b[1;32m~\\AppData\\Local\\Temp/ipykernel_14212/4236675786.py\u001b[0m in \u001b[0;36m<module>\u001b[1;34m\u001b[0m\n\u001b[0;32m      1\u001b[0m \u001b[1;31m# file is not der\u001b[0m\u001b[1;33m\u001b[0m\u001b[1;33m\u001b[0m\u001b[0m\n\u001b[0;32m      2\u001b[0m \u001b[1;33m\u001b[0m\u001b[0m\n\u001b[1;32m----> 3\u001b[1;33m \u001b[0mf\u001b[0m \u001b[1;33m=\u001b[0m \u001b[0mopen\u001b[0m\u001b[1;33m(\u001b[0m\u001b[1;34m'read_writes.txt'\u001b[0m \u001b[1;33m,\u001b[0m \u001b[1;34m'r+'\u001b[0m\u001b[1;33m)\u001b[0m\u001b[1;33m\u001b[0m\u001b[1;33m\u001b[0m\u001b[0m\n\u001b[0m",
      "\u001b[1;31mFileNotFoundError\u001b[0m: [Errno 2] No such file or directory: 'read_writes.txt'"
     ]
    }
   ],
   "source": [
    "# file is not der\n",
    "\n",
    "f = open('read_writes.txt' , 'r+')"
   ]
  },
  {
   "cell_type": "code",
   "execution_count": 29,
   "id": "0f09b4a7",
   "metadata": {},
   "outputs": [
    {
     "name": "stdout",
     "output_type": "stream",
     "text": [
      "nay class\n",
      "18\n"
     ]
    }
   ],
   "source": [
    "# file is der\n",
    "\"\"\"\n",
    "learnbay class\n",
    "\"\"\"\n",
    "\n",
    "\n",
    "f = open('read_writes.txt' , 'r+')\n",
    "f.write('python')\n",
    "f.seek(5)\n",
    "print(f.read())\n",
    "f.write('java')\n",
    "print(f.tell())\n",
    "f.seek(100)\n",
    "f.write('cpp')\n",
    "f.close()"
   ]
  },
  {
   "cell_type": "code",
   "execution_count": null,
   "id": "0b05d4a7",
   "metadata": {},
   "outputs": [],
   "source": [
    "Content of the file - pythonay classjava100cpp"
   ]
  },
  {
   "cell_type": "code",
   "execution_count": null,
   "id": "fb018573",
   "metadata": {},
   "outputs": [],
   "source": [
    "output of the code - nay class\n",
    "                     eof"
   ]
  },
  {
   "cell_type": "code",
   "execution_count": null,
   "id": "39fd112f",
   "metadata": {},
   "outputs": [],
   "source": [
    "exceptional handling - thrusday\n",
    "friday - regex\n",
    "\n",
    "monday - numpy\n"
   ]
  }
 ],
 "metadata": {
  "kernelspec": {
   "display_name": "Python 3 (ipykernel)",
   "language": "python",
   "name": "python3"
  },
  "language_info": {
   "codemirror_mode": {
    "name": "ipython",
    "version": 3
   },
   "file_extension": ".py",
   "mimetype": "text/x-python",
   "name": "python",
   "nbconvert_exporter": "python",
   "pygments_lexer": "ipython3",
   "version": "3.9.7"
  }
 },
 "nbformat": 4,
 "nbformat_minor": 5
}
