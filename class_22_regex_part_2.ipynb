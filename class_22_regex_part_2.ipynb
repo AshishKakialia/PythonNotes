{
 "cells": [
  {
   "cell_type": "code",
   "execution_count": null,
   "id": "72ab94f6",
   "metadata": {},
   "outputs": [],
   "source": [
    "# Regular Expression\n",
    "\n",
    "'''\n",
    ".       - Any Character Except New Line\n",
    "\\d      - Digit (0-9)\n",
    "\\D      - Not a Digit (0-9)\n",
    "\\w      - Word Character (a-z, A-Z, 0-9, _)\n",
    "\\W      - Not a Word Character\n",
    "\\s      - Whitespace (space, tab, newline)\n",
    "\\S      - Not Whitespace (space, tab, newline)\n",
    "\n",
    "\\b      - Word Boundary\n",
    "\\B      - Not a Word Boundary\n",
    "^       - Beginning of a String\n",
    "$       - End of a String\n",
    "\n",
    "[]      - Matches Characters in brackets\n",
    "[^ ]    - Matches Characters NOT in brackets\n",
    "|       - Either Or\n",
    "( )     - Group\n",
    "\n",
    "Quantifiers:\n",
    "*       - 0 or More\n",
    "+       - 1 or More\n",
    "?       - 0 or One\n",
    "{3}     - Exact Number\n",
    "{3,4}   - Range of Numbers (Minimum, Maximum)\n",
    "\n",
    "\n",
    "#### Sample Regexs ####\n",
    "\n",
    "[a-zA-Z0-9_.+-]+@[a-zA-Z0-9-]+\\.[a-zA-Z0-9-.]+\n",
    "\n",
    "'''\n"
   ]
  },
  {
   "cell_type": "markdown",
   "id": "0f8fc67c",
   "metadata": {},
   "source": [
    "# \\b- Word Boundary"
   ]
  },
  {
   "cell_type": "code",
   "execution_count": 3,
   "id": "d75410a8",
   "metadata": {},
   "outputs": [],
   "source": [
    "import re"
   ]
  },
  {
   "cell_type": "code",
   "execution_count": 5,
   "id": "ce376f76",
   "metadata": {},
   "outputs": [
    {
     "name": "stdout",
     "output_type": "stream",
     "text": [
      "<re.Match object; span=(0, 3), match='cat'>\n",
      "<re.Match object; span=(4, 7), match='cat'>\n",
      "<re.Match object; span=(14, 17), match='cat'>\n",
      "<re.Match object; span=(27, 30), match='cat'>\n",
      "<re.Match object; span=(35, 38), match='cat'>\n",
      "<re.Match object; span=(41, 44), match='cat'>\n"
     ]
    }
   ],
   "source": [
    "data = 'cat catherine catholic wildcat copycat uncatchable'\n",
    "\n",
    "pattern = re.compile('cat')\n",
    "\n",
    "matches = pattern.finditer(data)\n",
    "\n",
    "for match in matches:\n",
    "    print(match)"
   ]
  },
  {
   "cell_type": "code",
   "execution_count": 6,
   "id": "17666440",
   "metadata": {},
   "outputs": [
    {
     "name": "stdout",
     "output_type": "stream",
     "text": [
      "<re.Match object; span=(0, 4), match='cat '>\n",
      "<re.Match object; span=(27, 31), match='cat '>\n",
      "<re.Match object; span=(35, 39), match='cat '>\n"
     ]
    }
   ],
   "source": [
    "data = 'cat catherine catholic wildcat copycat uncatchable'\n",
    "\n",
    "pattern = re.compile('cat ')\n",
    "\n",
    "matches = pattern.finditer(data)\n",
    "\n",
    "for match in matches:\n",
    "    print(match)"
   ]
  },
  {
   "cell_type": "code",
   "execution_count": 8,
   "id": "ec726ebc",
   "metadata": {},
   "outputs": [
    {
     "name": "stdout",
     "output_type": "stream",
     "text": [
      "<re.Match object; span=(0, 3), match='cat'>\n",
      "<re.Match object; span=(27, 30), match='cat'>\n",
      "<re.Match object; span=(35, 38), match='cat'>\n"
     ]
    }
   ],
   "source": [
    "\"\"\"\n",
    "word\\b = left side of the the \\b should be a word char and right hand side should not be a word char\n",
    "\\bword = left side of the \\b should be not a word char and right hand side should be a char\n",
    "\"\"\"\n",
    "\n",
    "\n",
    "data = 'cat catherine catholic wildcat copycat uncatchable'\n",
    "\n",
    "pattern = re.compile(r'cat\\b')\n",
    "\n",
    "matches = pattern.finditer(data)\n",
    "\n",
    "for match in matches:\n",
    "    print(match)"
   ]
  },
  {
   "cell_type": "code",
   "execution_count": 9,
   "id": "09521d0c",
   "metadata": {},
   "outputs": [
    {
     "name": "stdout",
     "output_type": "stream",
     "text": [
      "<re.Match object; span=(0, 3), match='cat'>\n",
      "<re.Match object; span=(4, 7), match='cat'>\n",
      "<re.Match object; span=(14, 17), match='cat'>\n"
     ]
    }
   ],
   "source": [
    "data = 'cat catherine catholic wildcat copycat uncatchable'\n",
    "\n",
    "pattern = re.compile(r'\\bcat')\n",
    "\n",
    "matches = pattern.finditer(data)\n",
    "\n",
    "for match in matches:\n",
    "    print(match)"
   ]
  },
  {
   "cell_type": "code",
   "execution_count": 11,
   "id": "c2992c70",
   "metadata": {},
   "outputs": [
    {
     "name": "stdout",
     "output_type": "stream",
     "text": [
      "<re.Match object; span=(0, 3), match='cat'>\n"
     ]
    }
   ],
   "source": [
    "data = 'cat catherine catholic wildcat copycat uncatchable'\n",
    "\n",
    "pattern = re.compile(r'\\bcat\\b')\n",
    "\n",
    "matches = pattern.finditer(data)\n",
    "\n",
    "for match in matches:\n",
    "    print(match)"
   ]
  },
  {
   "cell_type": "code",
   "execution_count": 14,
   "id": "69879c8a",
   "metadata": {},
   "outputs": [
    {
     "name": "stdout",
     "output_type": "stream",
     "text": [
      "<re.Match object; span=(0, 1), match='s'>\n",
      "<re.Match object; span=(4, 5), match='s'>\n",
      "<re.Match object; span=(10, 11), match='s'>\n",
      "<re.Match object; span=(23, 24), match='s'>\n",
      "<re.Match object; span=(27, 28), match='s'>\n"
     ]
    }
   ],
   "source": [
    "data = 'she sells seashells at sea shore'\n",
    "\n",
    "pattern = re.compile(r'\\bs')\n",
    "\n",
    "matches = pattern.finditer(data)\n",
    "\n",
    "for match in matches:\n",
    "    print(match)"
   ]
  },
  {
   "cell_type": "code",
   "execution_count": 15,
   "id": "5e5de15c",
   "metadata": {},
   "outputs": [
    {
     "name": "stdout",
     "output_type": "stream",
     "text": [
      "<re.Match object; span=(0, 1), match='s'>\n",
      "<re.Match object; span=(4, 5), match='s'>\n",
      "<re.Match object; span=(10, 11), match='s'>\n",
      "<re.Match object; span=(13, 14), match='s'>\n",
      "<re.Match object; span=(23, 24), match='s'>\n",
      "<re.Match object; span=(27, 28), match='s'>\n"
     ]
    }
   ],
   "source": [
    "# \\B - not a wrod boundry\n",
    "\n",
    "data = 'she sells seashells at sea shore'\n",
    "\n",
    "pattern = re.compile(r's\\B')\n",
    "\n",
    "matches = pattern.finditer(data)\n",
    "\n",
    "for match in matches:\n",
    "    print(match)"
   ]
  },
  {
   "cell_type": "code",
   "execution_count": 16,
   "id": "8d0db184",
   "metadata": {},
   "outputs": [
    {
     "name": "stdout",
     "output_type": "stream",
     "text": [
      "<re.Match object; span=(13, 14), match='s'>\n"
     ]
    }
   ],
   "source": [
    "data = 'she sells seashells at sea shore'\n",
    "\n",
    "pattern = re.compile(r'\\Bs\\B')\n",
    "\n",
    "matches = pattern.finditer(data)\n",
    "\n",
    "for match in matches:\n",
    "    print(match)"
   ]
  },
  {
   "cell_type": "code",
   "execution_count": 17,
   "id": "2c64197d",
   "metadata": {},
   "outputs": [],
   "source": [
    "# ^       - Beginning of a String\n",
    "\n",
    "data = 'she sells seashells at sea shore'\n",
    "\n",
    "pattern = re.compile(r'^sell')\n",
    "\n",
    "matches = pattern.finditer(data)\n",
    "\n",
    "for match in matches:\n",
    "    print(match)"
   ]
  },
  {
   "cell_type": "code",
   "execution_count": 18,
   "id": "a0007311",
   "metadata": {},
   "outputs": [
    {
     "name": "stdout",
     "output_type": "stream",
     "text": [
      "<re.Match object; span=(0, 4), match='she '>\n"
     ]
    }
   ],
   "source": [
    "data = 'she sells seashells at sea shore'\n",
    "\n",
    "pattern = re.compile(r'^she ')\n",
    "\n",
    "matches = pattern.finditer(data)\n",
    "\n",
    "for match in matches:\n",
    "    print(match)"
   ]
  },
  {
   "cell_type": "code",
   "execution_count": 20,
   "id": "f90338b9",
   "metadata": {},
   "outputs": [],
   "source": [
    "#$      - end of a String\n",
    "\n",
    "data = 'she sells seashells at sea shore'\n",
    "\n",
    "pattern = re.compile(r' ore$')\n",
    "\n",
    "matches = pattern.finditer(data)\n",
    "\n",
    "for match in matches:\n",
    "    print(match)"
   ]
  },
  {
   "cell_type": "code",
   "execution_count": 21,
   "id": "4679b36f",
   "metadata": {},
   "outputs": [],
   "source": [
    "text_to_search = '''\n",
    "abcdefghijklmnopqurtuvwxyz\n",
    "ABCDEFGHIJKLMNOPQRSTUVWXYZ\\s\n",
    "321-555-4321\n",
    "1234567890\n",
    "Ha HaHa\n",
    "MetaCharacters (Need to be escaped):\n",
    ". ^ $ * + ? { } [ ] \\ | ( )\n",
    "khanafsaan11.com\n",
    "321-555-4321\n",
    "123.555.1234\n",
    "123*555*-1234\n",
    "123.555.1234\n",
    "800-555-1234\n",
    "900-555-1234\n",
    "Mr. Schafer\n",
    "Mr Smith\n",
    "Ms Davis\n",
    "Mrs. Robinson\n",
    "Mr. T\n",
    "Mr_hello\n",
    "'''"
   ]
  },
  {
   "cell_type": "code",
   "execution_count": 25,
   "id": "643ab525",
   "metadata": {},
   "outputs": [
    {
     "name": "stdout",
     "output_type": "stream",
     "text": [
      "<re.Match object; span=(57, 60), match='321'>\n",
      "<re.Match object; span=(61, 64), match='555'>\n",
      "<re.Match object; span=(171, 174), match='321'>\n",
      "<re.Match object; span=(175, 178), match='555'>\n",
      "<re.Match object; span=(184, 187), match='123'>\n",
      "<re.Match object; span=(188, 191), match='555'>\n",
      "<re.Match object; span=(197, 200), match='123'>\n",
      "<re.Match object; span=(201, 204), match='555'>\n",
      "<re.Match object; span=(211, 214), match='123'>\n",
      "<re.Match object; span=(215, 218), match='555'>\n",
      "<re.Match object; span=(224, 227), match='800'>\n",
      "<re.Match object; span=(228, 231), match='555'>\n",
      "<re.Match object; span=(237, 240), match='900'>\n",
      "<re.Match object; span=(241, 244), match='555'>\n"
     ]
    }
   ],
   "source": [
    "# Q1 - write a regex to search all the 3 digit numbers\n",
    "\n",
    "pattern = re.compile(r'\\b\\d\\d\\d\\b')\n",
    "\n",
    "matches = pattern.finditer(text_to_search)\n",
    "\n",
    "for match in matches:\n",
    "    print(match)"
   ]
  },
  {
   "cell_type": "code",
   "execution_count": 27,
   "id": "43466597",
   "metadata": {},
   "outputs": [
    {
     "name": "stdout",
     "output_type": "stream",
     "text": [
      "<re.Match object; span=(184, 196), match='123.555.1234'>\n",
      "<re.Match object; span=(211, 223), match='123.555.1234'>\n"
     ]
    }
   ],
   "source": [
    "#Q2 extract a valid phone number = nnn.nnn.nnnn\n",
    "\n",
    "pattern = re.compile(r'\\d\\d\\d\\.\\d\\d\\d\\.\\d\\d\\d\\d')\n",
    "\n",
    "matches = pattern.finditer(text_to_search)\n",
    "\n",
    "for match in matches:\n",
    "    print(match)"
   ]
  },
  {
   "cell_type": "code",
   "execution_count": 28,
   "id": "16509d8b",
   "metadata": {},
   "outputs": [
    {
     "name": "stdout",
     "output_type": "stream",
     "text": [
      "<re.Match object; span=(65, 66), match='4'>\n",
      "<re.Match object; span=(73, 74), match='4'>\n",
      "<re.Match object; span=(77, 78), match='8'>\n",
      "<re.Match object; span=(79, 80), match='0'>\n",
      "<re.Match object; span=(179, 180), match='4'>\n",
      "<re.Match object; span=(195, 196), match='4'>\n",
      "<re.Match object; span=(209, 210), match='4'>\n",
      "<re.Match object; span=(222, 223), match='4'>\n",
      "<re.Match object; span=(224, 225), match='8'>\n",
      "<re.Match object; span=(225, 226), match='0'>\n",
      "<re.Match object; span=(226, 227), match='0'>\n",
      "<re.Match object; span=(235, 236), match='4'>\n",
      "<re.Match object; span=(238, 239), match='0'>\n",
      "<re.Match object; span=(239, 240), match='0'>\n",
      "<re.Match object; span=(248, 249), match='4'>\n"
     ]
    }
   ],
   "source": [
    "# [] - Matches the char in brac\n",
    "\n",
    "pattern = re.compile(r'[048]')             \n",
    "matches = pattern.finditer(text_to_search)\n",
    "\n",
    "for match in matches:\n",
    "    print(match)"
   ]
  },
  {
   "cell_type": "code",
   "execution_count": 29,
   "id": "4da89387",
   "metadata": {},
   "outputs": [
    {
     "name": "stdout",
     "output_type": "stream",
     "text": [
      "<re.Match object; span=(1, 2), match='a'>\n",
      "<re.Match object; span=(2, 3), match='b'>\n",
      "<re.Match object; span=(3, 4), match='c'>\n",
      "<re.Match object; span=(4, 5), match='d'>\n",
      "<re.Match object; span=(5, 6), match='e'>\n",
      "<re.Match object; span=(6, 7), match='f'>\n",
      "<re.Match object; span=(57, 58), match='3'>\n",
      "<re.Match object; span=(58, 59), match='2'>\n",
      "<re.Match object; span=(59, 60), match='1'>\n",
      "<re.Match object; span=(66, 67), match='3'>\n",
      "<re.Match object; span=(67, 68), match='2'>\n",
      "<re.Match object; span=(68, 69), match='1'>\n",
      "<re.Match object; span=(70, 71), match='1'>\n",
      "<re.Match object; span=(71, 72), match='2'>\n",
      "<re.Match object; span=(72, 73), match='3'>\n",
      "<re.Match object; span=(79, 80), match='0'>\n",
      "<re.Match object; span=(82, 83), match='a'>\n",
      "<re.Match object; span=(85, 86), match='a'>\n",
      "<re.Match object; span=(87, 88), match='a'>\n",
      "<re.Match object; span=(90, 91), match='e'>\n",
      "<re.Match object; span=(92, 93), match='a'>\n",
      "<re.Match object; span=(95, 96), match='a'>\n",
      "<re.Match object; span=(97, 98), match='a'>\n",
      "<re.Match object; span=(98, 99), match='c'>\n",
      "<re.Match object; span=(100, 101), match='e'>\n",
      "<re.Match object; span=(106, 107), match='e'>\n",
      "<re.Match object; span=(107, 108), match='e'>\n",
      "<re.Match object; span=(108, 109), match='d'>\n",
      "<re.Match object; span=(113, 114), match='b'>\n",
      "<re.Match object; span=(114, 115), match='e'>\n",
      "<re.Match object; span=(116, 117), match='e'>\n",
      "<re.Match object; span=(118, 119), match='c'>\n",
      "<re.Match object; span=(119, 120), match='a'>\n",
      "<re.Match object; span=(121, 122), match='e'>\n",
      "<re.Match object; span=(122, 123), match='d'>\n",
      "<re.Match object; span=(156, 157), match='a'>\n",
      "<re.Match object; span=(158, 159), match='a'>\n",
      "<re.Match object; span=(159, 160), match='f'>\n",
      "<re.Match object; span=(161, 162), match='a'>\n",
      "<re.Match object; span=(162, 163), match='a'>\n",
      "<re.Match object; span=(164, 165), match='1'>\n",
      "<re.Match object; span=(165, 166), match='1'>\n",
      "<re.Match object; span=(167, 168), match='c'>\n",
      "<re.Match object; span=(171, 172), match='3'>\n",
      "<re.Match object; span=(172, 173), match='2'>\n",
      "<re.Match object; span=(173, 174), match='1'>\n",
      "<re.Match object; span=(180, 181), match='3'>\n",
      "<re.Match object; span=(181, 182), match='2'>\n",
      "<re.Match object; span=(182, 183), match='1'>\n",
      "<re.Match object; span=(184, 185), match='1'>\n",
      "<re.Match object; span=(185, 186), match='2'>\n",
      "<re.Match object; span=(186, 187), match='3'>\n",
      "<re.Match object; span=(192, 193), match='1'>\n",
      "<re.Match object; span=(193, 194), match='2'>\n",
      "<re.Match object; span=(194, 195), match='3'>\n",
      "<re.Match object; span=(197, 198), match='1'>\n",
      "<re.Match object; span=(198, 199), match='2'>\n",
      "<re.Match object; span=(199, 200), match='3'>\n",
      "<re.Match object; span=(206, 207), match='1'>\n",
      "<re.Match object; span=(207, 208), match='2'>\n",
      "<re.Match object; span=(208, 209), match='3'>\n",
      "<re.Match object; span=(211, 212), match='1'>\n",
      "<re.Match object; span=(212, 213), match='2'>\n",
      "<re.Match object; span=(213, 214), match='3'>\n",
      "<re.Match object; span=(219, 220), match='1'>\n",
      "<re.Match object; span=(220, 221), match='2'>\n",
      "<re.Match object; span=(221, 222), match='3'>\n",
      "<re.Match object; span=(225, 226), match='0'>\n",
      "<re.Match object; span=(226, 227), match='0'>\n",
      "<re.Match object; span=(232, 233), match='1'>\n",
      "<re.Match object; span=(233, 234), match='2'>\n",
      "<re.Match object; span=(234, 235), match='3'>\n",
      "<re.Match object; span=(238, 239), match='0'>\n",
      "<re.Match object; span=(239, 240), match='0'>\n",
      "<re.Match object; span=(245, 246), match='1'>\n",
      "<re.Match object; span=(246, 247), match='2'>\n",
      "<re.Match object; span=(247, 248), match='3'>\n",
      "<re.Match object; span=(255, 256), match='c'>\n",
      "<re.Match object; span=(257, 258), match='a'>\n",
      "<re.Match object; span=(258, 259), match='f'>\n",
      "<re.Match object; span=(259, 260), match='e'>\n",
      "<re.Match object; span=(275, 276), match='a'>\n",
      "<re.Match object; span=(287, 288), match='b'>\n",
      "<re.Match object; span=(304, 305), match='e'>\n"
     ]
    }
   ],
   "source": [
    "pattern = re.compile(r'[0123abcdef]')             \n",
    "matches = pattern.finditer(text_to_search)\n",
    "\n",
    "for match in matches:\n",
    "    print(match)"
   ]
  },
  {
   "cell_type": "code",
   "execution_count": 32,
   "id": "a7375aac",
   "metadata": {},
   "outputs": [
    {
     "name": "stdout",
     "output_type": "stream",
     "text": [
      "<re.Match object; span=(1, 2), match='a'>\n",
      "<re.Match object; span=(2, 3), match='b'>\n",
      "<re.Match object; span=(3, 4), match='c'>\n",
      "<re.Match object; span=(4, 5), match='d'>\n",
      "<re.Match object; span=(5, 6), match='e'>\n",
      "<re.Match object; span=(6, 7), match='f'>\n",
      "<re.Match object; span=(57, 58), match='3'>\n",
      "<re.Match object; span=(58, 59), match='2'>\n",
      "<re.Match object; span=(59, 60), match='1'>\n",
      "<re.Match object; span=(61, 62), match='5'>\n",
      "<re.Match object; span=(62, 63), match='5'>\n",
      "<re.Match object; span=(63, 64), match='5'>\n",
      "<re.Match object; span=(65, 66), match='4'>\n",
      "<re.Match object; span=(66, 67), match='3'>\n",
      "<re.Match object; span=(67, 68), match='2'>\n",
      "<re.Match object; span=(68, 69), match='1'>\n",
      "<re.Match object; span=(70, 71), match='1'>\n",
      "<re.Match object; span=(71, 72), match='2'>\n",
      "<re.Match object; span=(72, 73), match='3'>\n",
      "<re.Match object; span=(73, 74), match='4'>\n",
      "<re.Match object; span=(74, 75), match='5'>\n",
      "<re.Match object; span=(75, 76), match='6'>\n",
      "<re.Match object; span=(76, 77), match='7'>\n",
      "<re.Match object; span=(79, 80), match='0'>\n",
      "<re.Match object; span=(82, 83), match='a'>\n",
      "<re.Match object; span=(85, 86), match='a'>\n",
      "<re.Match object; span=(87, 88), match='a'>\n",
      "<re.Match object; span=(90, 91), match='e'>\n",
      "<re.Match object; span=(92, 93), match='a'>\n",
      "<re.Match object; span=(95, 96), match='a'>\n",
      "<re.Match object; span=(97, 98), match='a'>\n",
      "<re.Match object; span=(98, 99), match='c'>\n",
      "<re.Match object; span=(100, 101), match='e'>\n",
      "<re.Match object; span=(106, 107), match='e'>\n",
      "<re.Match object; span=(107, 108), match='e'>\n",
      "<re.Match object; span=(108, 109), match='d'>\n",
      "<re.Match object; span=(113, 114), match='b'>\n",
      "<re.Match object; span=(114, 115), match='e'>\n",
      "<re.Match object; span=(116, 117), match='e'>\n",
      "<re.Match object; span=(118, 119), match='c'>\n",
      "<re.Match object; span=(119, 120), match='a'>\n",
      "<re.Match object; span=(121, 122), match='e'>\n",
      "<re.Match object; span=(122, 123), match='d'>\n",
      "<re.Match object; span=(156, 157), match='a'>\n",
      "<re.Match object; span=(158, 159), match='a'>\n",
      "<re.Match object; span=(159, 160), match='f'>\n",
      "<re.Match object; span=(161, 162), match='a'>\n",
      "<re.Match object; span=(162, 163), match='a'>\n",
      "<re.Match object; span=(164, 165), match='1'>\n",
      "<re.Match object; span=(165, 166), match='1'>\n",
      "<re.Match object; span=(167, 168), match='c'>\n",
      "<re.Match object; span=(171, 172), match='3'>\n",
      "<re.Match object; span=(172, 173), match='2'>\n",
      "<re.Match object; span=(173, 174), match='1'>\n",
      "<re.Match object; span=(175, 176), match='5'>\n",
      "<re.Match object; span=(176, 177), match='5'>\n",
      "<re.Match object; span=(177, 178), match='5'>\n",
      "<re.Match object; span=(179, 180), match='4'>\n",
      "<re.Match object; span=(180, 181), match='3'>\n",
      "<re.Match object; span=(181, 182), match='2'>\n",
      "<re.Match object; span=(182, 183), match='1'>\n",
      "<re.Match object; span=(184, 185), match='1'>\n",
      "<re.Match object; span=(185, 186), match='2'>\n",
      "<re.Match object; span=(186, 187), match='3'>\n",
      "<re.Match object; span=(188, 189), match='5'>\n",
      "<re.Match object; span=(189, 190), match='5'>\n",
      "<re.Match object; span=(190, 191), match='5'>\n",
      "<re.Match object; span=(192, 193), match='1'>\n",
      "<re.Match object; span=(193, 194), match='2'>\n",
      "<re.Match object; span=(194, 195), match='3'>\n",
      "<re.Match object; span=(195, 196), match='4'>\n",
      "<re.Match object; span=(197, 198), match='1'>\n",
      "<re.Match object; span=(198, 199), match='2'>\n",
      "<re.Match object; span=(199, 200), match='3'>\n",
      "<re.Match object; span=(201, 202), match='5'>\n",
      "<re.Match object; span=(202, 203), match='5'>\n",
      "<re.Match object; span=(203, 204), match='5'>\n",
      "<re.Match object; span=(206, 207), match='1'>\n",
      "<re.Match object; span=(207, 208), match='2'>\n",
      "<re.Match object; span=(208, 209), match='3'>\n",
      "<re.Match object; span=(209, 210), match='4'>\n",
      "<re.Match object; span=(211, 212), match='1'>\n",
      "<re.Match object; span=(212, 213), match='2'>\n",
      "<re.Match object; span=(213, 214), match='3'>\n",
      "<re.Match object; span=(215, 216), match='5'>\n",
      "<re.Match object; span=(216, 217), match='5'>\n",
      "<re.Match object; span=(217, 218), match='5'>\n",
      "<re.Match object; span=(219, 220), match='1'>\n",
      "<re.Match object; span=(220, 221), match='2'>\n",
      "<re.Match object; span=(221, 222), match='3'>\n",
      "<re.Match object; span=(222, 223), match='4'>\n",
      "<re.Match object; span=(225, 226), match='0'>\n",
      "<re.Match object; span=(226, 227), match='0'>\n",
      "<re.Match object; span=(228, 229), match='5'>\n",
      "<re.Match object; span=(229, 230), match='5'>\n",
      "<re.Match object; span=(230, 231), match='5'>\n",
      "<re.Match object; span=(232, 233), match='1'>\n",
      "<re.Match object; span=(233, 234), match='2'>\n",
      "<re.Match object; span=(234, 235), match='3'>\n",
      "<re.Match object; span=(235, 236), match='4'>\n",
      "<re.Match object; span=(238, 239), match='0'>\n",
      "<re.Match object; span=(239, 240), match='0'>\n",
      "<re.Match object; span=(241, 242), match='5'>\n",
      "<re.Match object; span=(242, 243), match='5'>\n",
      "<re.Match object; span=(243, 244), match='5'>\n",
      "<re.Match object; span=(245, 246), match='1'>\n",
      "<re.Match object; span=(246, 247), match='2'>\n",
      "<re.Match object; span=(247, 248), match='3'>\n",
      "<re.Match object; span=(248, 249), match='4'>\n",
      "<re.Match object; span=(255, 256), match='c'>\n",
      "<re.Match object; span=(257, 258), match='a'>\n",
      "<re.Match object; span=(258, 259), match='f'>\n",
      "<re.Match object; span=(259, 260), match='e'>\n",
      "<re.Match object; span=(275, 276), match='a'>\n",
      "<re.Match object; span=(287, 288), match='b'>\n",
      "<re.Match object; span=(304, 305), match='e'>\n"
     ]
    }
   ],
   "source": [
    "# Significance of - between number of alphabets\n",
    "\n",
    "pattern = re.compile(r'[0-7a-f]')             \n",
    "matches = pattern.finditer(text_to_search)\n",
    "\n",
    "for match in matches:\n",
    "    print(match)"
   ]
  },
  {
   "cell_type": "code",
   "execution_count": 36,
   "id": "a5723cd4",
   "metadata": {},
   "outputs": [
    {
     "name": "stdout",
     "output_type": "stream",
     "text": [
      "<re.Match object; span=(0, 3), match='cat'>\n",
      "<re.Match object; span=(4, 7), match='mat'>\n",
      "<re.Match object; span=(12, 15), match='sat'>\n",
      "<re.Match object; span=(16, 19), match='dat'>\n",
      "<re.Match object; span=(20, 23), match='lat'>\n"
     ]
    }
   ],
   "source": [
    "# [^] - matches char not in the bracket\n",
    "\n",
    "data = 'cat mat bat sat dat lat'\n",
    "\n",
    "pattern = re.compile(r'[cmsdl]at')             \n",
    "matches = pattern.finditer(data)\n",
    "\n",
    "for match in matches:\n",
    "    print(match)"
   ]
  },
  {
   "cell_type": "code",
   "execution_count": 37,
   "id": "83bdf89e",
   "metadata": {},
   "outputs": [
    {
     "name": "stdout",
     "output_type": "stream",
     "text": [
      "<re.Match object; span=(0, 3), match='cat'>\n",
      "<re.Match object; span=(4, 7), match='mat'>\n",
      "<re.Match object; span=(12, 15), match='sat'>\n",
      "<re.Match object; span=(16, 19), match='dat'>\n",
      "<re.Match object; span=(20, 23), match='lat'>\n"
     ]
    }
   ],
   "source": [
    "pattern = re.compile(r'[^b]at')             \n",
    "matches = pattern.finditer(data)\n",
    "\n",
    "for match in matches:\n",
    "    print(match)"
   ]
  },
  {
   "cell_type": "code",
   "execution_count": 38,
   "id": "331654e0",
   "metadata": {},
   "outputs": [
    {
     "name": "stdout",
     "output_type": "stream",
     "text": [
      "<re.Match object; span=(2, 3), match='t'>\n",
      "<re.Match object; span=(3, 4), match=' '>\n",
      "<re.Match object; span=(4, 5), match='m'>\n",
      "<re.Match object; span=(6, 7), match='t'>\n",
      "<re.Match object; span=(7, 8), match=' '>\n",
      "<re.Match object; span=(10, 11), match='t'>\n",
      "<re.Match object; span=(11, 12), match=' '>\n",
      "<re.Match object; span=(12, 13), match='s'>\n",
      "<re.Match object; span=(14, 15), match='t'>\n",
      "<re.Match object; span=(15, 16), match=' '>\n",
      "<re.Match object; span=(16, 17), match='d'>\n",
      "<re.Match object; span=(18, 19), match='t'>\n",
      "<re.Match object; span=(19, 20), match=' '>\n",
      "<re.Match object; span=(20, 21), match='l'>\n",
      "<re.Match object; span=(22, 23), match='t'>\n"
     ]
    }
   ],
   "source": [
    "data = 'cat mat bat sat dat lat'\n",
    "\n",
    "pattern = re.compile(r'[^abc]')             \n",
    "matches = pattern.finditer(data)\n",
    "\n",
    "for match in matches:\n",
    "    print(match)"
   ]
  },
  {
   "cell_type": "code",
   "execution_count": 40,
   "id": "f4f29205",
   "metadata": {},
   "outputs": [
    {
     "name": "stdout",
     "output_type": "stream",
     "text": [
      "<re.Match object; span=(2, 3), match='t'>\n",
      "<re.Match object; span=(3, 4), match=' '>\n",
      "<re.Match object; span=(4, 5), match='m'>\n",
      "<re.Match object; span=(6, 7), match='t'>\n",
      "<re.Match object; span=(7, 8), match=' '>\n",
      "<re.Match object; span=(10, 11), match='t'>\n",
      "<re.Match object; span=(11, 12), match=' '>\n",
      "<re.Match object; span=(12, 13), match='s'>\n",
      "<re.Match object; span=(14, 15), match='t'>\n",
      "<re.Match object; span=(15, 16), match=' '>\n",
      "<re.Match object; span=(16, 17), match='d'>\n",
      "<re.Match object; span=(18, 19), match='t'>\n",
      "<re.Match object; span=(19, 20), match=' '>\n",
      "<re.Match object; span=(20, 21), match='l'>\n",
      "<re.Match object; span=(22, 23), match='t'>\n"
     ]
    }
   ],
   "source": [
    "data = 'cat mat bat sat dat lat'\n",
    "\n",
    "pattern = re.compile(r'[a][b][c]')             \n",
    "matches = pattern.finditer(data)\n",
    "\n",
    "for match in matches:\n",
    "    print(match)"
   ]
  },
  {
   "cell_type": "code",
   "execution_count": 41,
   "id": "07e62858",
   "metadata": {},
   "outputs": [
    {
     "name": "stdout",
     "output_type": "stream",
     "text": [
      "<re.Match object; span=(57, 69), match='321-555-4321'>\n",
      "<re.Match object; span=(171, 183), match='321-555-4321'>\n",
      "<re.Match object; span=(184, 196), match='123.555.1234'>\n",
      "<re.Match object; span=(211, 223), match='123.555.1234'>\n",
      "<re.Match object; span=(224, 236), match='800-555-1234'>\n",
      "<re.Match object; span=(237, 249), match='900-555-1234'>\n"
     ]
    }
   ],
   "source": [
    "#Q2 extract a valid phone number = nnn.nnn.nnnn / nnn-nnn-nnnn\n",
    "\n",
    "pattern = re.compile(r'\\d\\d\\d[.-]\\d\\d\\d[.-]\\d\\d\\d\\d')             \n",
    "matches = pattern.finditer(text_to_search)\n",
    "\n",
    "for match in matches:\n",
    "    print(match)"
   ]
  },
  {
   "cell_type": "code",
   "execution_count": 43,
   "id": "cff8396e",
   "metadata": {},
   "outputs": [
    {
     "name": "stdout",
     "output_type": "stream",
     "text": [
      "<re.Match object; span=(57, 69), match='321-555-4321'>\n",
      "<re.Match object; span=(171, 183), match='321-555-4321'>\n",
      "<re.Match object; span=(184, 196), match='123.555.1234'>\n",
      "<re.Match object; span=(211, 223), match='123.555.1234'>\n",
      "<re.Match object; span=(224, 236), match='800-555-1234'>\n",
      "<re.Match object; span=(237, 249), match='900-555-1234'>\n"
     ]
    }
   ],
   "source": [
    "# {} - exact number\n",
    "\n",
    "pattern = re.compile(r'\\d{3}[.-]\\d{3}[.-]\\d{4}')             \n",
    "matches = pattern.finditer(text_to_search)\n",
    "\n",
    "for match in matches:\n",
    "    print(match)"
   ]
  },
  {
   "cell_type": "code",
   "execution_count": 46,
   "id": "53ea844b",
   "metadata": {},
   "outputs": [],
   "source": [
    "# {min,max}\n",
    "\n",
    "text_to_search = '''\n",
    "abcdefghijklmnopqurtuvwxyz\n",
    "ABCDEFGHIJKLMNOPQRSTUVWXYZ\\s\n",
    "321-555-4321\n",
    "1234567890\n",
    "Ha HaHa\n",
    "MetaCharacters (Need to be escaped):\n",
    ". ^ $ * + ? { } [ ] \\ | ( )\n",
    "khanafsaan11.com\n",
    "321-555-4321\n",
    "321-555-432165\n",
    "321-555-43\n",
    "123.555.1234\n",
    "123*555*-1234\n",
    "123.555.1234\n",
    "800-555-1234\n",
    "900-555-1234\n",
    "Mr. Schafer\n",
    "Mr Smith\n",
    "Ms Davis\n",
    "Mrs. Robinson\n",
    "Mr. T\n",
    "Mr_hello\n",
    "'''"
   ]
  },
  {
   "cell_type": "code",
   "execution_count": 48,
   "id": "3228ab22",
   "metadata": {},
   "outputs": [
    {
     "name": "stdout",
     "output_type": "stream",
     "text": [
      "<re.Match object; span=(57, 69), match='321-555-4321'>\n",
      "<re.Match object; span=(171, 183), match='321-555-4321'>\n",
      "<re.Match object; span=(184, 198), match='321-555-432165'>\n",
      "<re.Match object; span=(199, 209), match='321-555-43'>\n",
      "<re.Match object; span=(210, 222), match='123.555.1234'>\n",
      "<re.Match object; span=(237, 249), match='123.555.1234'>\n",
      "<re.Match object; span=(250, 262), match='800-555-1234'>\n",
      "<re.Match object; span=(263, 275), match='900-555-1234'>\n"
     ]
    }
   ],
   "source": [
    "pattern = re.compile(r'\\d{3}[.-]\\d{3}[.-]\\d{2,6}')             \n",
    "matches = pattern.finditer(text_to_search)\n",
    "\n",
    "for match in matches:\n",
    "    print(match)"
   ]
  },
  {
   "cell_type": "code",
   "execution_count": null,
   "id": "9732adea",
   "metadata": {},
   "outputs": [],
   "source": [
    "# {min,max}\n",
    "\n",
    "text_to_search = '''\n",
    "abcdefghijklmnopqurtuvwxyz\n",
    "ABCDEFGHIJKLMNOPQRSTUVWXYZ\\s\n",
    "321-555-4321\n",
    "1234567890\n",
    "Ha HaHa\n",
    "MetaCharacters (Need to be escaped):\n",
    ". ^ $ * + ? { } [ ] \\ | ( )\n",
    "khanafsaan11.com\n",
    "321-555-4321\n",
    "321-555-432165\n",
    "321-555-43\n",
    "123.555.1234\n",
    "123*555*-1234\n",
    "123.555.1234\n",
    "800-555-1234\n",
    "900-555-1234\n",
    "Mr. Schafer\n",
    "Mr Smith\n",
    "Ms Davis\n",
    "Mrs. Robinson\n",
    "Mr. T\n",
    "Mr_hello\n",
    "'''"
   ]
  },
  {
   "cell_type": "code",
   "execution_count": 49,
   "id": "205f9d8c",
   "metadata": {},
   "outputs": [
    {
     "name": "stdout",
     "output_type": "stream",
     "text": [
      "<re.Match object; span=(40, 41), match='M'>\n",
      "<re.Match object; span=(89, 90), match='M'>\n",
      "<re.Match object; span=(276, 277), match='M'>\n",
      "<re.Match object; span=(288, 289), match='M'>\n",
      "<re.Match object; span=(297, 298), match='M'>\n",
      "<re.Match object; span=(306, 307), match='M'>\n",
      "<re.Match object; span=(320, 321), match='M'>\n",
      "<re.Match object; span=(326, 327), match='M'>\n"
     ]
    }
   ],
   "source": [
    "pattern = re.compile(r'M')             \n",
    "matches = pattern.finditer(text_to_search)\n",
    "\n",
    "for match in matches:\n",
    "    print(match)"
   ]
  },
  {
   "cell_type": "code",
   "execution_count": 50,
   "id": "da10b8b9",
   "metadata": {},
   "outputs": [
    {
     "name": "stdout",
     "output_type": "stream",
     "text": [
      "<re.Match object; span=(276, 278), match='Mr'>\n",
      "<re.Match object; span=(288, 290), match='Mr'>\n",
      "<re.Match object; span=(306, 308), match='Mr'>\n",
      "<re.Match object; span=(320, 322), match='Mr'>\n",
      "<re.Match object; span=(326, 328), match='Mr'>\n"
     ]
    }
   ],
   "source": [
    "pattern = re.compile(r'Mr')             \n",
    "matches = pattern.finditer(text_to_search)\n",
    "\n",
    "for match in matches:\n",
    "    print(match)"
   ]
  },
  {
   "cell_type": "code",
   "execution_count": 51,
   "id": "b4ff6a18",
   "metadata": {},
   "outputs": [
    {
     "name": "stdout",
     "output_type": "stream",
     "text": [
      "<re.Match object; span=(276, 279), match='Mr.'>\n",
      "<re.Match object; span=(320, 323), match='Mr.'>\n"
     ]
    }
   ],
   "source": [
    "pattern = re.compile(r'Mr\\.')             \n",
    "matches = pattern.finditer(text_to_search)\n",
    "\n",
    "for match in matches:\n",
    "    print(match)"
   ]
  },
  {
   "cell_type": "code",
   "execution_count": 52,
   "id": "3ad4289b",
   "metadata": {},
   "outputs": [
    {
     "name": "stdout",
     "output_type": "stream",
     "text": [
      "<re.Match object; span=(276, 280), match='Mr. '>\n",
      "<re.Match object; span=(320, 324), match='Mr. '>\n"
     ]
    }
   ],
   "source": [
    "pattern = re.compile(r'Mr\\. ')             \n",
    "matches = pattern.finditer(text_to_search)\n",
    "\n",
    "for match in matches:\n",
    "    print(match)"
   ]
  },
  {
   "cell_type": "code",
   "execution_count": 54,
   "id": "46b06c48",
   "metadata": {},
   "outputs": [
    {
     "name": "stdout",
     "output_type": "stream",
     "text": [
      "<re.Match object; span=(276, 287), match='Mr. Schafer'>\n",
      "<re.Match object; span=(320, 325), match='Mr. T'>\n"
     ]
    }
   ],
   "source": [
    "pattern = re.compile(r'Mr\\. [A-Z]')             \n",
    "matches = pattern.finditer(text_to_search)\n",
    "\n",
    "for match in matches:\n",
    "    print(match)"
   ]
  },
  {
   "cell_type": "code",
   "execution_count": null,
   "id": "f6e7258c",
   "metadata": {},
   "outputs": [],
   "source": [
    "# significance of using *\n",
    "\n",
    "pattern = re.compile(r'Mr\\. [A-Z][a-z]*')             \n",
    "matches = pattern.finditer(text_to_search)\n",
    "\n",
    "for match in matches:\n",
    "    print(match)"
   ]
  },
  {
   "cell_type": "code",
   "execution_count": 55,
   "id": "8a0a1ef4",
   "metadata": {},
   "outputs": [
    {
     "name": "stdout",
     "output_type": "stream",
     "text": [
      "<re.Match object; span=(276, 287), match='Mr. Schafer'>\n",
      "<re.Match object; span=(288, 296), match='Mr Smith'>\n",
      "<re.Match object; span=(320, 325), match='Mr. T'>\n"
     ]
    }
   ],
   "source": [
    "\"\"\"\n",
    "Mr. Schafer\n",
    "Mr Smith\n",
    "Ms Davis\n",
    "Mrs. Robinson\n",
    "Mr. T\n",
    "Mr_hello\n",
    "\n",
    "\"\"\"\n",
    "\n",
    "pattern = re.compile(r'Mr\\.? [A-Z][a-z]*')             \n",
    "matches = pattern.finditer(text_to_search)\n",
    "\n",
    "for match in matches:\n",
    "    print(match)"
   ]
  },
  {
   "cell_type": "code",
   "execution_count": 56,
   "id": "ce6d9ef5",
   "metadata": {},
   "outputs": [
    {
     "name": "stdout",
     "output_type": "stream",
     "text": [
      "<re.Match object; span=(276, 287), match='Mr. Schafer'>\n",
      "<re.Match object; span=(288, 296), match='Mr Smith'>\n",
      "<re.Match object; span=(297, 305), match='Ms Davis'>\n",
      "<re.Match object; span=(320, 325), match='Mr. T'>\n"
     ]
    }
   ],
   "source": [
    "pattern = re.compile(r'M[rs]\\.? [A-Z][a-z]*')             \n",
    "matches = pattern.finditer(text_to_search)\n",
    "\n",
    "for match in matches:\n",
    "    print(match)"
   ]
  },
  {
   "cell_type": "code",
   "execution_count": 57,
   "id": "c48d0ba9",
   "metadata": {},
   "outputs": [
    {
     "name": "stdout",
     "output_type": "stream",
     "text": [
      "<re.Match object; span=(276, 287), match='Mr. Schafer'>\n",
      "<re.Match object; span=(288, 296), match='Mr Smith'>\n",
      "<re.Match object; span=(297, 305), match='Ms Davis'>\n",
      "<re.Match object; span=(306, 319), match='Mrs. Robinson'>\n",
      "<re.Match object; span=(320, 325), match='Mr. T'>\n"
     ]
    }
   ],
   "source": [
    "pattern = re.compile(r'M(r|s|rs)\\.? [A-Z][a-z]*')             \n",
    "matches = pattern.finditer(text_to_search)\n",
    "\n",
    "for match in matches:\n",
    "    print(match)"
   ]
  },
  {
   "cell_type": "code",
   "execution_count": null,
   "id": "6cffe4d5",
   "metadata": {},
   "outputs": [],
   "source": [
    "pattern = re.compile(r'M(r|s|rs)\\.? [A-Z][a-z]*')             \n",
    "matches = pattern.finditer(text_to_search)\n",
    "\n",
    "for match in matches:\n",
    "    print(match)"
   ]
  },
  {
   "cell_type": "code",
   "execution_count": 61,
   "id": "f3243300",
   "metadata": {},
   "outputs": [
    {
     "name": "stdout",
     "output_type": "stream",
     "text": [
      "afsan\\tkhan\n"
     ]
    }
   ],
   "source": [
    "a = 'afsan\\\\tkhan'\n",
    "print(a)"
   ]
  },
  {
   "cell_type": "code",
   "execution_count": 64,
   "id": "9eee0e15",
   "metadata": {},
   "outputs": [
    {
     "name": "stdout",
     "output_type": "stream",
     "text": [
      "['cat', 'cat']\n"
     ]
    }
   ],
   "source": [
    "data = 'cat dog mat sat dat catholic'\n",
    "\n",
    "a = re.findall('cat' , data)\n",
    "print(a)"
   ]
  },
  {
   "cell_type": "code",
   "execution_count": null,
   "id": "74391b55",
   "metadata": {},
   "outputs": [],
   "source": [
    "Numpy\n",
    "Pandas\n",
    "matplotlib\n",
    "seaborn"
   ]
  }
 ],
 "metadata": {
  "kernelspec": {
   "display_name": "Python 3 (ipykernel)",
   "language": "python",
   "name": "python3"
  },
  "language_info": {
   "codemirror_mode": {
    "name": "ipython",
    "version": 3
   },
   "file_extension": ".py",
   "mimetype": "text/x-python",
   "name": "python",
   "nbconvert_exporter": "python",
   "pygments_lexer": "ipython3",
   "version": "3.9.7"
  }
 },
 "nbformat": 4,
 "nbformat_minor": 5
}
